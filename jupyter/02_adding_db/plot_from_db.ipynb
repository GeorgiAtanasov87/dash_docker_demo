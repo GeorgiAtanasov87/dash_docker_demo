{
 "cells": [
  {
   "cell_type": "markdown",
   "id": "eb745bc6-9974-4361-92d6-93fd8c8e3613",
   "metadata": {
    "jp-MarkdownHeadingCollapsed": true,
    "tags": []
   },
   "source": [
    "#### Imports"
   ]
  },
  {
   "cell_type": "code",
   "execution_count": 1,
   "id": "69ac6d4c-3eff-40fb-8fa9-3b31a486536f",
   "metadata": {},
   "outputs": [],
   "source": [
    "import pandas as pd\n",
    "from sqlalchemy import create_engine\n",
    "from sqlalchemy import select, text\n",
    "import datetime\n",
    "import plotly\n",
    "import plotly.graph_objs as go\n",
    "import ipywidgets as widgets\n",
    "from ipywidgets import interact\n",
    "from IPython.display import display"
   ]
  },
  {
   "cell_type": "markdown",
   "id": "60715fde-6ccf-42f2-92ff-099be85d315c",
   "metadata": {
    "tags": []
   },
   "source": [
    "## Read and transform data"
   ]
  },
  {
   "cell_type": "markdown",
   "id": "56a609cb-8df6-42ea-a736-b4cb62819eb6",
   "metadata": {
    "jp-MarkdownHeadingCollapsed": true,
    "tags": []
   },
   "source": [
    "##### Read data"
   ]
  },
  {
   "cell_type": "code",
   "execution_count": 2,
   "id": "7ec6dc29-d9fb-4658-a27a-6bb4af54fa36",
   "metadata": {},
   "outputs": [
    {
     "name": "stdout",
     "output_type": "stream",
     "text": [
      "Reading 111360 rows of data\n"
     ]
    }
   ],
   "source": [
    "engine = create_engine(\"sqlite+pysqlite:///../../data/data.db\", echo=False)\n",
    "\n",
    "with engine.connect() as conn:\n",
    "    rows = conn.execute(text(\"SELECT COUNT(utc_timestamp) FROM markets_data\")).first()[0]\n",
    "    print(f\"Reading {rows} rows of data\")\n",
    "    df = pd.read_sql_table(\"markets_data\", con=conn, index_col=\"utc_timestamp\")"
   ]
  },
  {
   "cell_type": "markdown",
   "id": "d3dd5e0f-9421-42c3-a513-d13d2425e03a",
   "metadata": {},
   "source": [
    "#### Transform data"
   ]
  },
  {
   "cell_type": "code",
   "execution_count": 3,
   "id": "6d43ba71-030d-403e-a191-b108c0e3f5e6",
   "metadata": {},
   "outputs": [
    {
     "data": {
      "text/html": [
       "<div>\n",
       "<style scoped>\n",
       "    .dataframe tbody tr th:only-of-type {\n",
       "        vertical-align: middle;\n",
       "    }\n",
       "\n",
       "    .dataframe tbody tr th {\n",
       "        vertical-align: top;\n",
       "    }\n",
       "\n",
       "    .dataframe thead th {\n",
       "        text-align: right;\n",
       "    }\n",
       "</style>\n",
       "<table border=\"1\" class=\"dataframe\">\n",
       "  <thead>\n",
       "    <tr style=\"text-align: right;\">\n",
       "      <th>country</th>\n",
       "      <th>BG</th>\n",
       "      <th>GR</th>\n",
       "      <th>HU</th>\n",
       "      <th>RO</th>\n",
       "    </tr>\n",
       "    <tr>\n",
       "      <th>cet_timestamp</th>\n",
       "      <th></th>\n",
       "      <th></th>\n",
       "      <th></th>\n",
       "      <th></th>\n",
       "    </tr>\n",
       "  </thead>\n",
       "  <tbody>\n",
       "    <tr>\n",
       "      <th>2021-11-12 17:00:00+01:00</th>\n",
       "      <td>317.87</td>\n",
       "      <td>317.87</td>\n",
       "      <td>299.28</td>\n",
       "      <td>317.87</td>\n",
       "    </tr>\n",
       "  </tbody>\n",
       "</table>\n",
       "</div>"
      ],
      "text/plain": [
       "country                        BG      GR      HU      RO\n",
       "cet_timestamp                                            \n",
       "2021-11-12 17:00:00+01:00  317.87  317.87  299.28  317.87"
      ]
     },
     "execution_count": 3,
     "metadata": {},
     "output_type": "execute_result"
    }
   ],
   "source": [
    "df.index = pd.to_datetime(df.index)\n",
    "df[\"cet_timestamp\"] = df.index.tz_localize(\"utc\").tz_convert(\"CET\")\n",
    "\n",
    "pt = df.pivot_table(index=\"cet_timestamp\", columns=[\"country\"], values=\"price_eur\")\n",
    "pt.sample()"
   ]
  },
  {
   "cell_type": "markdown",
   "id": "b054f0ac-dbf1-4c1e-97d7-61e8c9abbdf9",
   "metadata": {
    "tags": []
   },
   "source": [
    "## Plot data"
   ]
  },
  {
   "cell_type": "markdown",
   "id": "afb34f6d-5d7a-443a-ad1f-9712224631af",
   "metadata": {
    "tags": []
   },
   "source": [
    "#### Define elements"
   ]
  },
  {
   "cell_type": "code",
   "execution_count": 4,
   "id": "f3fa7f02-5e2e-49b0-a7ec-9b3dcc1135e6",
   "metadata": {},
   "outputs": [],
   "source": [
    "def create_frequency_dropdown() -> widgets.widgets.widget_selection.Dropdown:\n",
    "    time_agg_list = [(\"Hourly\", \"h\"), (\"Daily\", \"d\"),\n",
    "                     (\"Weekly\", \"w\"), (\"Monthly\", \"m\"),\n",
    "                     (\"Quarterly\", \"q\"), (\"Yearly\", \"y\")]\n",
    "    return widgets.Dropdown(options=time_agg_list, value=\"d\", description=\"Aggregation\")\n",
    "\n",
    "freq_widget = create_frequency_dropdown()"
   ]
  },
  {
   "cell_type": "code",
   "execution_count": 5,
   "id": "82b0cdb8-d7a0-4333-a36b-230b49dc035e",
   "metadata": {},
   "outputs": [],
   "source": [
    "fig = go.FigureWidget(\n",
    "    layout=dict(\n",
    "        height=600, \n",
    "        title_text=\"Energy prices explorer\",\n",
    "        xaxis_title = \"Period, CET\",\n",
    "        yaxis_title = \"Price, EUR/MWh\",\n",
    "        showlegend = True\n",
    "    )\n",
    ")\n",
    "\n",
    "countries_widget = widgets.SelectMultiple(options=pt.columns)\n",
    "freq_widget = create_frequency_dropdown()\n",
    "output_test = widgets.Output()\n",
    "\n",
    "start_date = widgets.DatePicker(\n",
    "    description='Start date',\n",
    "    disabled=False,\n",
    "    value=datetime.datetime(2023,1,2).date()\n",
    ")\n",
    "end_date = widgets.DatePicker(\n",
    "    description='End date',\n",
    "    disabled=False,\n",
    "    value=datetime.datetime(2023,1,15).date()\n",
    ")"
   ]
  },
  {
   "cell_type": "markdown",
   "id": "95fbfacf-2766-4827-a985-64e99fc4bb74",
   "metadata": {
    "tags": []
   },
   "source": [
    "#### Add interactivity"
   ]
  },
  {
   "cell_type": "code",
   "execution_count": 6,
   "id": "85897835-abed-45fa-945d-c958329d7fc2",
   "metadata": {},
   "outputs": [],
   "source": [
    "def on_change(change):\n",
    "    \"\"\" Update figure on change in the controls\"\"\"\n",
    "    # with output_test:\n",
    "    #     print(change['new'], change)\n",
    "    freq_str = freq_widget.value\n",
    "    start_str = start_date.value.strftime(\"%Y-%m-%d\")\n",
    "    end_str = end_date.value.strftime(\"%Y-%m-%d\")\n",
    "    agg_data = pt[start_str:end_str].groupby(pd.Grouper(freq=freq_str)).mean().round(2)\n",
    "    with fig.batch_update():\n",
    "        fig.data = []\n",
    "        columns = countries_widget.value\n",
    "        [fig.add_scatter(y=agg_data[col], x=agg_data.index, name=col) for col in columns]\n",
    "\n",
    "        \n",
    "countries_widget.observe(on_change, names='value')\n",
    "freq_widget.observe(on_change, names='value')\n",
    "start_date.observe(on_change, names='value')\n",
    "end_date.observe(on_change, names='value')\n",
    "\n",
    "countries_widget.value = tuple(pt.columns) \n",
    "period_controls = widgets.VBox([start_date, end_date, freq_widget])\n",
    "all_controls = widgets.HBox([period_controls, countries_widget])"
   ]
  },
  {
   "cell_type": "markdown",
   "id": "46adeefb-9da0-44bf-a421-abca7b9bd04d",
   "metadata": {},
   "source": [
    "#### Display plot"
   ]
  },
  {
   "cell_type": "code",
   "execution_count": 7,
   "id": "6f4afac1-15ad-47bf-b1ff-6b47eea18e98",
   "metadata": {},
   "outputs": [
    {
     "data": {
      "application/vnd.jupyter.widget-view+json": {
       "model_id": "3ac7c09cdd4747e7a66ee63d4880882c",
       "version_major": 2,
       "version_minor": 0
      },
      "text/plain": [
       "VBox(children=(Output(), HBox(children=(VBox(children=(DatePicker(value=datetime.date(2023, 1, 2), description…"
      ]
     },
     "metadata": {},
     "output_type": "display_data"
    }
   ],
   "source": [
    "display(widgets.VBox([output_test, all_controls, fig]))"
   ]
  },
  {
   "cell_type": "code",
   "execution_count": null,
   "id": "1593cbed-d305-4d92-ae62-b3883008c13c",
   "metadata": {},
   "outputs": [],
   "source": []
  }
 ],
 "metadata": {
  "kernelspec": {
   "display_name": "Python 3 (ipykernel)",
   "language": "python",
   "name": "python3"
  },
  "language_info": {
   "codemirror_mode": {
    "name": "ipython",
    "version": 3
   },
   "file_extension": ".py",
   "mimetype": "text/x-python",
   "name": "python",
   "nbconvert_exporter": "python",
   "pygments_lexer": "ipython3",
   "version": "3.10.8"
  }
 },
 "nbformat": 4,
 "nbformat_minor": 5
}
