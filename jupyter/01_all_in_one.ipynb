{
 "cells": [
  {
   "cell_type": "code",
   "execution_count": 1,
   "id": "e165c2d0-2c9a-4aaf-9785-c884759f5173",
   "metadata": {},
   "outputs": [],
   "source": [
    "import pandas as pd\n",
    "import plotly.express as px\n",
    "import pendulum\n",
    "import re\n",
    "import os\n",
    "import plotly\n",
    "import plotly.graph_objs as go\n",
    "import ipywidgets as widgets\n",
    "from ipywidgets import interact\n",
    "from IPython.display import display"
   ]
  },
  {
   "cell_type": "markdown",
   "id": "5a1ccd7a-e9b9-42ef-bdaf-b6711be28d93",
   "metadata": {
    "tags": []
   },
   "source": [
    "#### Configurtions / Mappings"
   ]
  },
  {
   "cell_type": "code",
   "execution_count": 2,
   "id": "7084cd6d-7128-417a-8f03-839100146266",
   "metadata": {},
   "outputs": [],
   "source": [
    "data_folder = r\"../data\"\n",
    "tz_mapper = {\"CET/CEST\": \"CET\", \"EET/EEST\": \"EET\"}\n",
    "currency_mapper = {\"BGN\": 0.511292, \"EUR\": 1, \"RON\": 0.205}"
   ]
  },
  {
   "cell_type": "markdown",
   "id": "a40ecb52-15c8-4e37-aeba-ad7e7f555139",
   "metadata": {
    "tags": []
   },
   "source": [
    "## Parse data"
   ]
  },
  {
   "cell_type": "markdown",
   "id": "ed8da864-bfe9-490a-a467-88ccef5c5986",
   "metadata": {
    "tags": []
   },
   "source": [
    "#### Data operation definitions"
   ]
  },
  {
   "cell_type": "code",
   "execution_count": 3,
   "id": "94532a92-fc5e-4c82-a5e0-6a689bac6cfa",
   "metadata": {},
   "outputs": [],
   "source": [
    "def read_file(path: str) -> pd.DataFrame:\n",
    "    df = pd.read_csv(path, na_values=[\"-\"])\n",
    "    df.dropna(thresh=3, inplace=True)\n",
    "    return df\n",
    "    \n",
    "\n",
    "def parse_column_names(df: pd.DataFrame) -> dict[str]:\n",
    "    \"\"\" Get metadata from column names \"\"\"\n",
    "    price_column = [x for x in df.columns if x.startswith('Day-ahead Price')][0]\n",
    "    \n",
    "    timestamp_column = [x for x in df.columns if x.startswith('MTU')][0]\n",
    "    tz_name = tz_mapper[re.search(r\"MTU \\((.*?)\\)\", timestamp_column).group(1)]\n",
    "    country = [x for x in df.columns if x.startswith('BZN|')][0].replace(\"BZN|\",\"\")\n",
    "    return {\"price_column\": price_column, \"timestamp_column\": timestamp_column,\n",
    "            \"time_zone\": tz_name, \"country\": country}\n",
    "\n",
    "\n",
    "def parse_timestamp(value: str, source_tz: str, output_tz: str = \"UTC\") -> pendulum.DateTime:\n",
    "    \"Parse string to timezone aware datetime\"\n",
    "    tz_obj = pendulum.timezone(source_tz)\n",
    "    date_str = f\"{value.split(' - ')[0]}\"\n",
    "    return pendulum.from_format(date_str, 'DD.MM.YYYY HH:mm', tz=tz_obj).in_tz(output_tz)\n",
    "\n",
    "\n",
    "def gen_utc_index(df: pd.DataFrame, timestamp_column: str, timezone: str) -> pd.DatetimeIndex:\n",
    "    \"\"\"Returns a datetime index for the data period. Fails if provided incomplete data\"\"\"\n",
    "    start_timestamp = parse_timestamp(\n",
    "        value=df[timestamp_column].iloc[0], \n",
    "        source_tz=timezone, \n",
    "        output_tz=\"UTC\"\n",
    "    )\n",
    "    \n",
    "    end_timestamp = parse_timestamp(\n",
    "        value=df[timestamp_column].iloc[-1], \n",
    "        source_tz=timezone, \n",
    "        output_tz=\"UTC\"\n",
    "    )\n",
    "    \n",
    "    utc_index = pd.date_range(start=start_timestamp, end=end_timestamp, freq=\"h\", name=\"utc_timestamp\")\n",
    "    if len(utc_index) == len(df[timestamp_column]):\n",
    "        return utc_index\n",
    "    else:\n",
    "        raise Exception(f\"Data has time gaps! Available {len(df[timestamp_column])} out of {len(utc_index)} values\")\n",
    "        \n",
    "\n",
    "def price_to_eur(df: pd.DataFrame, price_column: str, currency_column: str) -> pd.Series:\n",
    "    \"\"\" Return a series with price converted to EUR \"\"\"\n",
    "    return round(df[price_column] * df[currency_column].map(currency_mapper), 2)\n",
    "\n",
    "\n",
    "def transform_data_to_cet_eur(path: str) -> pd.DataFrame:\n",
    "    \"\"\" Transforms the input file to a dataframe with UTC\n",
    "    and CET timestamps and price in EUR/MWh\n",
    "    \"\"\"\n",
    "    df = read_file(path)\n",
    "    metadata = parse_column_names(df)\n",
    "    \n",
    "    df.index = gen_utc_index(df, metadata['timestamp_column'], metadata[\"time_zone\"]) \n",
    "    df[\"cet_timestamp\"] = df.index.tz_convert(\"CET\")\n",
    "    df[\"price_eur\"] = price_to_eur(df=df, price_column=metadata[\"price_column\"], currency_column=\"Currency\")\n",
    "    return df[[\"cet_timestamp\", \"price_eur\"]]"
   ]
  },
  {
   "cell_type": "markdown",
   "id": "c19967f0-4248-4c0f-94aa-75e0eeb563f4",
   "metadata": {
    "tags": []
   },
   "source": [
    "## Display data"
   ]
  },
  {
   "cell_type": "code",
   "execution_count": 4,
   "id": "1d4485c1-0f72-420b-9ce9-b671f69aba9a",
   "metadata": {},
   "outputs": [],
   "source": [
    "def plot_fig(files_list: list[str], freq: str = \"h\") -> plotly.graph_objs._figure.Figure:\n",
    "    time_column = \"cet_timestamp\"\n",
    "    price_column = \"price_eur\"\n",
    "    fig = go.FigureWidget()\n",
    "    fig.update_layout(\n",
    "        height = 600,\n",
    "        title_text = \"Energy prices explorer\",\n",
    "        xaxis_title = \"Period, CET\",\n",
    "        yaxis_title = \"Price, EUR/MWh\"\n",
    "    )\n",
    "    lines = [ (transform_data_to_cet_eur(f\"{data_folder}/{file_name}\"), file_name ) for file_name in files_list]\n",
    "    for df, file_name in lines:\n",
    "        line_name = file_name.replace(\"-DAM-PRICES-\", \" \").replace(\".csv\", \"\")\n",
    "        aggregated_data = df.groupby(pd.Grouper(key=time_column, freq=freq)).mean().round(2)\n",
    "        fig.add_scatter(y=aggregated_data[price_column], x=aggregated_data.index, name=line_name)\n",
    "    print(type(fig))\n",
    "    return fig\n",
    "    \n",
    "\n",
    "def create_files_widget(path:str, extension: str =\"csv\") -> widgets.widgets.widget_selection.SelectMultiple:\n",
    "    all_files = os.listdir(path)\n",
    "    filtered_files = [f for f in sorted(all_files) if f.endswith(f\".{extension}\")]\n",
    "    return widgets.SelectMultiple(\n",
    "        options=filtered_files, \n",
    "        description=\"Select files\",\n",
    "        rows = 10\n",
    "    )\n",
    "\n",
    "def create_frequency_dropdown() -> widgets.widgets.widget_selection.Dropdown:\n",
    "    time_agg_list = [(\"Hourly\", \"h\"), (\"Daily\", \"d\"),\n",
    "                     (\"Weekly\", \"w\"), (\"Monthly\", \"m\"),\n",
    "                     (\"Quarterly\", \"q\"), (\"Yearly\", \"y\")]\n",
    "    return widgets.Dropdown(options=time_agg_list, value=\"d\", description=\"Aggregation\")"
   ]
  },
  {
   "cell_type": "markdown",
   "id": "dfcce185-ab1d-4de6-a6fd-dcc9111c553d",
   "metadata": {},
   "source": [
    "#### Create controls (widgets)"
   ]
  },
  {
   "cell_type": "code",
   "execution_count": 5,
   "id": "36a3a131-8ffe-4e2f-b254-0380a46d9b34",
   "metadata": {
    "tags": []
   },
   "outputs": [],
   "source": [
    "files_widget = create_files_widget(data_folder, extension=\"csv\")\n",
    "freq_widget = create_frequency_dropdown()"
   ]
  },
  {
   "cell_type": "markdown",
   "id": "a14478d1-ad56-42bc-8627-ef71db900ee6",
   "metadata": {
    "tags": []
   },
   "source": [
    "#### Display interactive plot"
   ]
  },
  {
   "cell_type": "code",
   "execution_count": 6,
   "id": "8824a476-9a23-4036-ad39-65ed77889edd",
   "metadata": {
    "tags": []
   },
   "outputs": [
    {
     "data": {
      "application/vnd.jupyter.widget-view+json": {
       "model_id": "f1784767424a4105855c0dfab675d4f8",
       "version_major": 2,
       "version_minor": 0
      },
      "text/plain": [
       "interactive(children=(SelectMultiple(description='Select files', options=('BG-DAM-PRICES-2020.csv', 'BG-DAM-PR…"
      ]
     },
     "metadata": {},
     "output_type": "display_data"
    },
    {
     "data": {
      "text/plain": [
       "<function __main__.plot_fig(files_list: list[str], freq: str = 'h') -> plotly.graph_objs._figure.Figure>"
      ]
     },
     "execution_count": 6,
     "metadata": {},
     "output_type": "execute_result"
    }
   ],
   "source": [
    "interact(plot_fig, files_list=files_widget, freq=freq_widget)"
   ]
  },
  {
   "cell_type": "code",
   "execution_count": null,
   "id": "66f4d973-8f37-4dc0-bff6-19c819b040de",
   "metadata": {},
   "outputs": [],
   "source": []
  }
 ],
 "metadata": {
  "kernelspec": {
   "display_name": "Python 3 (ipykernel)",
   "language": "python",
   "name": "python3"
  },
  "language_info": {
   "codemirror_mode": {
    "name": "ipython",
    "version": 3
   },
   "file_extension": ".py",
   "mimetype": "text/x-python",
   "name": "python",
   "nbconvert_exporter": "python",
   "pygments_lexer": "ipython3",
   "version": "3.10.8"
  }
 },
 "nbformat": 4,
 "nbformat_minor": 5
}
